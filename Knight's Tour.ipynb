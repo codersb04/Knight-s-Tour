{
 "cells": [
  {
   "cell_type": "code",
   "execution_count": 4,
   "id": "6b5b6249",
   "metadata": {},
   "outputs": [],
   "source": [
    "import numpy as np"
   ]
  },
  {
   "cell_type": "code",
   "execution_count": 211,
   "id": "ff1f63b9",
   "metadata": {},
   "outputs": [],
   "source": [
    "# Function to intialize the board\n",
    "def chess_board(size):\n",
    "    board = np.zeros((size,size), dtype=int)\n",
    "    return board"
   ]
  },
  {
   "cell_type": "code",
   "execution_count": 177,
   "id": "ffd5cf8a",
   "metadata": {},
   "outputs": [
    {
     "data": {
      "text/plain": [
       "array([[0, 0, 0, 0, 0, 0, 0, 0, 0, 0],\n",
       "       [0, 0, 0, 0, 0, 0, 0, 0, 0, 0],\n",
       "       [0, 0, 0, 0, 0, 0, 0, 0, 0, 0],\n",
       "       [0, 0, 0, 0, 0, 0, 0, 0, 0, 0],\n",
       "       [0, 0, 0, 0, 0, 0, 0, 0, 0, 0],\n",
       "       [0, 0, 0, 0, 0, 0, 0, 0, 0, 0],\n",
       "       [0, 0, 0, 0, 0, 0, 0, 0, 0, 0],\n",
       "       [0, 0, 0, 0, 0, 0, 0, 0, 0, 0],\n",
       "       [0, 0, 0, 0, 0, 0, 0, 0, 0, 0],\n",
       "       [0, 0, 0, 0, 0, 0, 0, 0, 0, 0]])"
      ]
     },
     "execution_count": 177,
     "metadata": {},
     "output_type": "execute_result"
    }
   ],
   "source": [
    "chess_board()"
   ]
  },
  {
   "cell_type": "code",
   "execution_count": 213,
   "id": "4f3a98f8",
   "metadata": {},
   "outputs": [],
   "source": [
    "# Function to print the board\n",
    "def print_board(board):\n",
    "    \n",
    "    for i in range(len(board)):\n",
    "        for j in range(len(board[i])):\n",
    "            print(\"|\", str(board[i][j]).center(4, \" \"), \"|\", end = \"\")\n",
    "        \n",
    "        print(\"\")\n",
    "     "
   ]
  },
  {
   "cell_type": "code",
   "execution_count": 215,
   "id": "42823b86",
   "metadata": {},
   "outputs": [
    {
     "name": "stdout",
     "output_type": "stream",
     "text": [
      "|  0   ||  0   ||  0   ||  0   ||  0   ||  0   ||  0   ||  0   ||  0   ||  0   |\n",
      "|  0   ||  0   ||  0   ||  0   ||  0   ||  0   ||  0   ||  0   ||  0   ||  0   |\n",
      "|  0   ||  0   ||  0   ||  0   ||  0   ||  0   ||  0   ||  0   ||  0   ||  0   |\n",
      "|  0   ||  0   ||  0   ||  0   ||  0   ||  0   ||  0   ||  0   ||  0   ||  0   |\n",
      "|  0   ||  0   ||  0   ||  0   ||  0   ||  0   ||  0   ||  0   ||  0   ||  0   |\n",
      "|  0   ||  0   ||  0   ||  0   ||  0   ||  0   ||  0   ||  0   ||  0   ||  0   |\n",
      "|  0   ||  0   ||  0   ||  0   ||  0   ||  0   ||  0   ||  0   ||  0   ||  0   |\n",
      "|  0   ||  0   ||  0   ||  0   ||  0   ||  0   ||  0   ||  0   ||  0   ||  0   |\n",
      "|  0   ||  0   ||  0   ||  0   ||  0   ||  0   ||  0   ||  0   ||  0   ||  0   |\n",
      "|  0   ||  0   ||  0   ||  0   ||  0   ||  0   ||  0   ||  0   ||  0   ||  0   |\n"
     ]
    }
   ],
   "source": [
    "print_board(chess_board(size))"
   ]
  },
  {
   "cell_type": "code",
   "execution_count": 238,
   "id": "0fd5ba21",
   "metadata": {},
   "outputs": [],
   "source": [
    "# Function to get all the possible moves\n",
    "def moves(x, y, board, size):\n",
    "    \n",
    "    possibility_x = [-2, -2, 1, -1, 1, -1, 2, 2] # All the possible position for row movement\n",
    "    possibility_y = [-1, 1, -2, -2, 2, 2, -1, 1] # All the possible position column row movement\n",
    "\n",
    "    \n",
    "    # initialize empty list for possible moves\n",
    "    possible_moves = []\n",
    "    \n",
    "    for i in range(8):\n",
    "        # Check for the possble moves \n",
    "        if (x+possibility_x[i] >= 0 and x+possibility_x[i] <= size-1 and \n",
    "            y+possibility_y[i] >= 0 and y+possibility_y[i] <= size-1  and \n",
    "            board[x+possibility_x[i]][y+possibility_y[i]]==0):\n",
    "\n",
    "            possible_moves.append([x+possibility_x[i], y+possibility_y[i]])\n",
    "            \n",
    "    return possible_moves"
   ]
  },
  {
   "cell_type": "code",
   "execution_count": 227,
   "id": "e2171493",
   "metadata": {},
   "outputs": [
    {
     "data": {
      "text/plain": [
       "[[3, 5], [3, 7], [6, 4], [4, 4], [6, 8], [4, 8], [7, 5], [7, 7]]"
      ]
     },
     "execution_count": 227,
     "metadata": {},
     "output_type": "execute_result"
    }
   ],
   "source": [
    "moves(5,6,chess_board(size), size) "
   ]
  },
  {
   "cell_type": "code",
   "execution_count": 217,
   "id": "4a1224f1",
   "metadata": {},
   "outputs": [],
   "source": [
    "def update_board(board, position_x, position_y, moves):\n",
    "    board[position_x][position_y] = moves\n",
    "    return board\n"
   ]
  },
  {
   "cell_type": "code",
   "execution_count": 273,
   "id": "907b937b",
   "metadata": {},
   "outputs": [],
   "source": [
    "# Using Warnsdorff's Algorithm\n",
    "def knights_tour(size, row, col):\n",
    "    move_number = 1\n",
    "    board = update_board(chess_board(size), row, col, move_number)\n",
    "    # initialize the value for x and y\n",
    "    x = row\n",
    "    y = col\n",
    "    \n",
    "    # run the loop by the num of squares 8*8\n",
    "    for step in range((size*size)-1):\n",
    " \n",
    "        # Get the total number of possible moves from the position\n",
    "        total_moves = moves(x, y, board,size)\n",
    "       \n",
    "        \n",
    "        # Get the move with least number of further moves and make the next moves to that position\n",
    "        least_move = total_moves[0]\n",
    "\n",
    "        # Get the position with least number of posisible moves from the list of total moves\n",
    "        for i in range(1, len(total_moves)):\n",
    "            if len(moves(total_moves[i][0], total_moves[i][1], board, size)) < len(moves(least_move[0], least_move[1], board, size)):\n",
    "                        least_move = total_moves[i]\n",
    "\n",
    "        # set the least move to the next move\n",
    "        next_move = least_move\n",
    "\n",
    "        # increase the number of moves\n",
    "        move_number+=1\n",
    "        \n",
    "        #update the board with new moves number and next move\n",
    "        board = update_board(board, next_move[0], next_move[1], move_number)\n",
    "        \n",
    "        # update the value of x and y\n",
    "        x = next_move[0]\n",
    "        y = next_move[1]\n",
    "    \n",
    "    return board"
   ]
  },
  {
   "cell_type": "code",
   "execution_count": 279,
   "id": "4ae2621b",
   "metadata": {},
   "outputs": [
    {
     "name": "stdout",
     "output_type": "stream",
     "text": [
      "Enter the size of the board: 10\n",
      "Enter the row number: 8\n",
      "Enter the column number: 9\n"
     ]
    }
   ],
   "source": [
    "# Get the inputs from the user\n",
    "size = int(input(\"Enter the size of the board: \"))\n",
    "row = int(input(\"Enter the row number: \"))\n",
    "column = int(input(\"Enter the column number: \"))"
   ]
  },
  {
   "cell_type": "code",
   "execution_count": 280,
   "id": "3c706907",
   "metadata": {},
   "outputs": [
    {
     "name": "stdout",
     "output_type": "stream",
     "text": [
      "|  78  ||  69  ||  66  ||  13  ||  52  ||  63  ||  32  ||  15  ||  30  ||  61  |\n",
      "|  67  ||  12  ||  79  ||  70  ||  65  ||  14  ||  53  ||  62  ||  33  ||  16  |\n",
      "|  74  ||  77  ||  68  ||  83  ||  80  ||  51  ||  64  ||  31  ||  60  ||  29  |\n",
      "|  11  ||  86  ||  75  ||  94  ||  71  ||  84  ||  81  ||  54  ||  17  ||  34  |\n",
      "|  76  ||  73  ||  92  ||  85  ||  82  ||  57  ||  50  ||  59  ||  28  ||  47  |\n",
      "|  87  ||  10  ||  95  ||  72  ||  93  ||  90  ||  55  ||  48  ||  35  ||  18  |\n",
      "|  40  ||  99  ||  88  ||  91  ||  56  ||  49  ||  58  ||  19  ||  46  ||  27  |\n",
      "|  9   ||  96  ||  41  || 100  ||  89  ||  24  ||  45  ||  36  ||  3   ||  20  |\n",
      "|  42  ||  39  ||  98  ||  7   ||  44  ||  37  ||  22  ||  5   ||  26  ||  1   |\n",
      "|  97  ||  8   ||  43  ||  38  ||  23  ||  6   ||  25  ||  2   ||  21  ||  4   |\n"
     ]
    }
   ],
   "source": [
    "print_board(knights_tour(size, row, column))"
   ]
  }
 ],
 "metadata": {
  "kernelspec": {
   "display_name": "Python 3 (ipykernel)",
   "language": "python",
   "name": "python3"
  },
  "language_info": {
   "codemirror_mode": {
    "name": "ipython",
    "version": 3
   },
   "file_extension": ".py",
   "mimetype": "text/x-python",
   "name": "python",
   "nbconvert_exporter": "python",
   "pygments_lexer": "ipython3",
   "version": "3.11.5"
  }
 },
 "nbformat": 4,
 "nbformat_minor": 5
}
