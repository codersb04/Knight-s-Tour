{
 "cells": [
  {
   "cell_type": "code",
   "execution_count": 1,
   "id": "6b5b6249",
   "metadata": {},
   "outputs": [],
   "source": [
    "import numpy as np"
   ]
  },
  {
   "cell_type": "code",
   "execution_count": 122,
   "id": "9a2600fb",
   "metadata": {},
   "outputs": [
    {
     "name": "stdout",
     "output_type": "stream",
     "text": [
      "Enter the size of the board: 12\n"
     ]
    }
   ],
   "source": [
    "# Get the size of the board as inputs from the user\n",
    "size = int(input(\"Enter the size of the board: \"))"
   ]
  },
  {
   "cell_type": "code",
   "execution_count": 123,
   "id": "ff1f63b9",
   "metadata": {},
   "outputs": [],
   "source": [
    "# Function to intialize the board\n",
    "def chess_board(size):\n",
    "    board = np.zeros((size,size), dtype=int)\n",
    "    return board"
   ]
  },
  {
   "cell_type": "code",
   "execution_count": 124,
   "id": "ffd5cf8a",
   "metadata": {},
   "outputs": [
    {
     "data": {
      "text/plain": [
       "array([[0, 0, 0, 0, 0, 0, 0, 0, 0, 0, 0, 0],\n",
       "       [0, 0, 0, 0, 0, 0, 0, 0, 0, 0, 0, 0],\n",
       "       [0, 0, 0, 0, 0, 0, 0, 0, 0, 0, 0, 0],\n",
       "       [0, 0, 0, 0, 0, 0, 0, 0, 0, 0, 0, 0],\n",
       "       [0, 0, 0, 0, 0, 0, 0, 0, 0, 0, 0, 0],\n",
       "       [0, 0, 0, 0, 0, 0, 0, 0, 0, 0, 0, 0],\n",
       "       [0, 0, 0, 0, 0, 0, 0, 0, 0, 0, 0, 0],\n",
       "       [0, 0, 0, 0, 0, 0, 0, 0, 0, 0, 0, 0],\n",
       "       [0, 0, 0, 0, 0, 0, 0, 0, 0, 0, 0, 0],\n",
       "       [0, 0, 0, 0, 0, 0, 0, 0, 0, 0, 0, 0],\n",
       "       [0, 0, 0, 0, 0, 0, 0, 0, 0, 0, 0, 0],\n",
       "       [0, 0, 0, 0, 0, 0, 0, 0, 0, 0, 0, 0]])"
      ]
     },
     "execution_count": 124,
     "metadata": {},
     "output_type": "execute_result"
    }
   ],
   "source": [
    "chess_board(size)"
   ]
  },
  {
   "cell_type": "code",
   "execution_count": 125,
   "id": "4f3a98f8",
   "metadata": {},
   "outputs": [],
   "source": [
    "# Function to print the board\n",
    "def print_board(board):\n",
    "    print(\"colrow\",end = \"\")\n",
    "    for col in range(len(board)):\n",
    "        print(str(col).center(8, \" \"), end = \"\")\n",
    "    print(\"\")\n",
    "    for i in range(len(board)):\n",
    "        print(str(i).center(3, \" \"),\"--> \", end=\"\")\n",
    "        for j in range(len(board[i])):\n",
    "            print(\"|\", str(board[i][j]).center(4, \" \"), \"|\", end = \"\")\n",
    "        \n",
    "        print(\"\")\n",
    "     "
   ]
  },
  {
   "cell_type": "code",
   "execution_count": 126,
   "id": "42823b86",
   "metadata": {},
   "outputs": [
    {
     "name": "stdout",
     "output_type": "stream",
     "text": [
      "colrow   0       1       2       3       4       5       6       7       8       9       10      11   \n",
      " 0  --> |  0   ||  0   ||  0   ||  0   ||  0   ||  0   ||  0   ||  0   ||  0   ||  0   ||  0   ||  0   |\n",
      " 1  --> |  0   ||  0   ||  0   ||  0   ||  0   ||  0   ||  0   ||  0   ||  0   ||  0   ||  0   ||  0   |\n",
      " 2  --> |  0   ||  0   ||  0   ||  0   ||  0   ||  0   ||  0   ||  0   ||  0   ||  0   ||  0   ||  0   |\n",
      " 3  --> |  0   ||  0   ||  0   ||  0   ||  0   ||  0   ||  0   ||  0   ||  0   ||  0   ||  0   ||  0   |\n",
      " 4  --> |  0   ||  0   ||  0   ||  0   ||  0   ||  0   ||  0   ||  0   ||  0   ||  0   ||  0   ||  0   |\n",
      " 5  --> |  0   ||  0   ||  0   ||  0   ||  0   ||  0   ||  0   ||  0   ||  0   ||  0   ||  0   ||  0   |\n",
      " 6  --> |  0   ||  0   ||  0   ||  0   ||  0   ||  0   ||  0   ||  0   ||  0   ||  0   ||  0   ||  0   |\n",
      " 7  --> |  0   ||  0   ||  0   ||  0   ||  0   ||  0   ||  0   ||  0   ||  0   ||  0   ||  0   ||  0   |\n",
      " 8  --> |  0   ||  0   ||  0   ||  0   ||  0   ||  0   ||  0   ||  0   ||  0   ||  0   ||  0   ||  0   |\n",
      " 9  --> |  0   ||  0   ||  0   ||  0   ||  0   ||  0   ||  0   ||  0   ||  0   ||  0   ||  0   ||  0   |\n",
      " 10 --> |  0   ||  0   ||  0   ||  0   ||  0   ||  0   ||  0   ||  0   ||  0   ||  0   ||  0   ||  0   |\n",
      " 11 --> |  0   ||  0   ||  0   ||  0   ||  0   ||  0   ||  0   ||  0   ||  0   ||  0   ||  0   ||  0   |\n"
     ]
    }
   ],
   "source": [
    "print_board(chess_board(size))"
   ]
  },
  {
   "cell_type": "code",
   "execution_count": 127,
   "id": "0fd5ba21",
   "metadata": {},
   "outputs": [],
   "source": [
    "# Function to get all the possible moves\n",
    "def moves(x, y, board, size):\n",
    "    \n",
    "    possibility_x = [-2, -2, 1, -1, 1, -1, 2, 2] # All the possible position for row movement\n",
    "    possibility_y = [-1, 1, -2, -2, 2, 2, -1, 1] # All the possible position column row movement\n",
    "\n",
    "    \n",
    "    # initialize empty list for possible moves\n",
    "    possible_moves = []\n",
    "    \n",
    "    for i in range(8):\n",
    "        # Check for the possble moves \n",
    "        if (x+possibility_x[i] >= 0 and x+possibility_x[i] <= size-1 and \n",
    "            y+possibility_y[i] >= 0 and y+possibility_y[i] <= size-1  and \n",
    "            board[x+possibility_x[i]][y+possibility_y[i]]==0):\n",
    "\n",
    "            possible_moves.append([x+possibility_x[i], y+possibility_y[i]])\n",
    "            \n",
    "    return possible_moves"
   ]
  },
  {
   "cell_type": "code",
   "execution_count": 128,
   "id": "e2171493",
   "metadata": {},
   "outputs": [
    {
     "data": {
      "text/plain": [
       "[[7, 0], [7, 2], [10, 3], [8, 3], [11, 0], [11, 2]]"
      ]
     },
     "execution_count": 128,
     "metadata": {},
     "output_type": "execute_result"
    }
   ],
   "source": [
    "moves(9,1,chess_board(size), size) "
   ]
  },
  {
   "cell_type": "code",
   "execution_count": 129,
   "id": "4a1224f1",
   "metadata": {},
   "outputs": [],
   "source": [
    "def update_board(board, position_x, position_y, moves):\n",
    "    board[position_x][position_y] = moves\n",
    "    return board\n"
   ]
  },
  {
   "cell_type": "code",
   "execution_count": 130,
   "id": "907b937b",
   "metadata": {},
   "outputs": [],
   "source": [
    "# Using Warnsdorff's Algorithm\n",
    "def knights_tour(size, row, col):\n",
    "    move_number = 1\n",
    "    board = update_board(chess_board(size), row, col, move_number)\n",
    "    # initialize the value for x and y\n",
    "    x = row\n",
    "    y = col\n",
    "    \n",
    "    # run the loop by the num of squares 8*8\n",
    "    for step in range((size*size)-1):\n",
    " \n",
    "        # Get the total number of possible moves from the position\n",
    "        total_moves = moves(x, y, board,size)\n",
    "       \n",
    "        \n",
    "        # Get the move with least number of further moves and make the next moves to that position\n",
    "        least_move = total_moves[0] # Initialize the least move\n",
    "\n",
    "        # Get the position with least number of posisible moves from the list of total moves\n",
    "        for i in range(1, len(total_moves)):\n",
    "            if len(moves(total_moves[i][0], \n",
    "                         total_moves[i][1], board, size)) < len(moves(least_move[0], least_move[1], board, size)):\n",
    "                        least_move = total_moves[i]\n",
    "\n",
    "        # set the least move to the next move\n",
    "        next_move = least_move\n",
    "\n",
    "        # increase the number of moves\n",
    "        move_number+=1\n",
    "        \n",
    "        #update the board with new moves number and next move\n",
    "        board = update_board(board, next_move[0], next_move[1], move_number)\n",
    "        \n",
    "        # update the value of x and y\n",
    "        x = next_move[0]\n",
    "        y = next_move[1]\n",
    "    \n",
    "    return board"
   ]
  },
  {
   "cell_type": "code",
   "execution_count": 131,
   "id": "121e5eb1",
   "metadata": {},
   "outputs": [
    {
     "name": "stdout",
     "output_type": "stream",
     "text": [
      "Enter the row number: 10\n",
      "Enter the column number: 9\n"
     ]
    }
   ],
   "source": [
    "# Get the value of row and col from user\n",
    "row = int(input(\"Enter the row number: \"))\n",
    "column = int(input(\"Enter the column number: \"))"
   ]
  },
  {
   "cell_type": "code",
   "execution_count": 132,
   "id": "3c706907",
   "metadata": {},
   "outputs": [
    {
     "name": "stdout",
     "output_type": "stream",
     "text": [
      "colrow   0       1       2       3       4       5       6       7       8       9       10      11   \n",
      " 0  --> |  12  ||  37  ||  14  ||  45  ||  10  ||  35  ||  52  ||  59  ||  8   ||  33  ||  30  ||  63  |\n",
      " 1  --> |  15  ||  44  ||  11  ||  36  ||  53  ||  48  ||  9   ||  34  ||  57  ||  62  ||  7   ||  32  |\n",
      " 2  --> |  38  ||  13  || 108  ||  49  ||  46  ||  51  ||  58  ||  71  ||  60  ||  31  ||  64  ||  29  |\n",
      " 3  --> | 107  ||  16  ||  43  ||  54  || 109  ||  76  ||  47  ||  56  ||  65  ||  72  ||  61  ||  6   |\n",
      " 4  --> |  42  ||  39  || 106  || 113  ||  50  ||  55  || 110  ||  75  ||  70  ||  67  ||  28  ||  73  |\n",
      " 5  --> |  17  || 114  ||  41  || 124  || 111  || 118  ||  77  ||  66  ||  87  ||  74  ||  5   ||  68  |\n",
      " 6  --> |  40  || 105  || 112  || 117  || 122  || 127  ||  86  || 119  ||  78  ||  69  ||  84  ||  27  |\n",
      " 7  --> | 115  ||  18  || 123  || 132  || 125  || 134  || 121  || 128  ||  85  ||  88  ||  79  ||  4   |\n",
      " 8  --> | 104  || 131  || 116  || 141  || 136  || 129  || 126  ||  89  || 120  ||  91  ||  26  ||  83  |\n",
      " 9  --> |  19  || 142  || 137  || 130  || 133  ||  96  || 135  ||  94  ||  99  ||  82  ||  3   ||  80  |\n",
      " 10 --> | 138  || 103  || 144  ||  21  || 140  || 101  ||  98  ||  23  ||  90  ||  1   ||  92  ||  25  |\n",
      " 11 --> | 143  ||  20  || 139  || 102  ||  97  ||  22  ||  95  || 100  ||  93  ||  24  ||  81  ||  2   |\n"
     ]
    }
   ],
   "source": [
    "print_board(knights_tour(size, row, column))"
   ]
  }
 ],
 "metadata": {
  "kernelspec": {
   "display_name": "Python 3 (ipykernel)",
   "language": "python",
   "name": "python3"
  },
  "language_info": {
   "codemirror_mode": {
    "name": "ipython",
    "version": 3
   },
   "file_extension": ".py",
   "mimetype": "text/x-python",
   "name": "python",
   "nbconvert_exporter": "python",
   "pygments_lexer": "ipython3",
   "version": "3.11.4"
  }
 },
 "nbformat": 4,
 "nbformat_minor": 5
}
